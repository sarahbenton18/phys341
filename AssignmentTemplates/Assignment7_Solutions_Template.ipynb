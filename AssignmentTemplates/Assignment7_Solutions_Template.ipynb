{
 "cells": [
  {
   "cell_type": "markdown",
   "metadata": {},
   "source": [
    "# Assignment 7 Solutions"
   ]
  },
  {
   "cell_type": "code",
   "execution_count": 2,
   "metadata": {},
   "outputs": [],
   "source": [
    "import numpy as np\n",
    "import pandas as pd\n",
    "import matplotlib.pyplot as plt\n",
    "import statsmodels.formula.api as sm\n",
    "from statsmodels.stats.anova import anova_lm\n",
    "import scipy.stats as stats\n",
    "from sklearn.linear_model import LinearRegression\n",
    "\n",
    "def linear_regression(sumx,sumy,sumxy,sumx2,n):\n",
    "    b = (n*sumxy-sumx*sumy)/(n*sumx2-sumx**2)\n",
    "    xbar = sumx/n\n",
    "    ybar = sumy/n\n",
    "    a = ybar - b*xbar\n",
    "    return a,b"
   ]
  },
  {
   "cell_type": "markdown",
   "metadata": {},
   "source": [
    "## Question 1\n",
    "\n",
    "An article on estimating 28-day strength of concrete considered regressing y = 28-day standard-cured strength (psi) against x = accelerated strength (psi). Suppose the equation of the true regression line is y = 1789 + 0.7x.\n",
    "\n",
    "(a) What is the expected value of 28-day strength when accelerated strength = 2445? \n",
    "\n",
    "(b) By how much can we expect 28-day strength to change when accelerated strength increases by 1 psi? \n",
    "\n",
    "(c) Answer part (b) for an increase of 108 psi. (Give answer accurate to 1 decimal place.)\n",
    "\n",
    "(d) Answer part (b) for a decrease of 108 psi. (Give answer accurate to 1 decimal place.) "
   ]
  },
  {
   "cell_type": "code",
   "execution_count": 3,
   "metadata": {},
   "outputs": [
    {
     "name": "stdout",
     "output_type": "stream",
     "text": [
      "a) 3500.5 \n",
      "b) 0.7 \n",
      "c) 75.6 \n",
      "d) -75.6 \n"
     ]
    }
   ],
   "source": []
  },
  {
   "cell_type": "markdown",
   "metadata": {},
   "source": [
    "## Question 2\n",
    "\n",
    "Suppose that in a certain chemical process the reaction time y (hr) is related to the temperature (°F) in the chamber in which the reaction takes place according to the simple linear regression model with equation y = 4.7 – 0.016x and σ = 0.085.\n",
    "\n",
    "(a) What is the expected change in reaction time for a 1°F increase in temperature?\n",
    "\n",
    "What is the expected change in reaction time for a 6°F increase in temperature? (Give answer accurate to 3 decimal places.)\n",
    " \n",
    "\n",
    "(b) What is the expected reaction time when temperature is 170°F? (Give answer accurate to 2 decimal places.) \n",
    "\n",
    "What is the expected reaction time when temperature is 190°F? (Give answer accurate to 2 decimal places.)\n",
    "\n",
    "(c) Suppose five observations are made independently on reaction time, each one for a temperature of 190°F. What is the probability that all five times are between 1.48 and 1.84 hours? (Give answer accurate to 3 decimal places.) \n",
    "\n",
    "(d) What is the probability that two independently observed reaction times for temperatures 1° apart are such that the time at the higher temperature exceeds the time at the lower temperature? (Give answer accurate to 3 decimal places.)"
   ]
  },
  {
   "cell_type": "code",
   "execution_count": 16,
   "metadata": {},
   "outputs": [
    {
     "name": "stdout",
     "output_type": "stream",
     "text": [
      "a1) -0.016 \n",
      "a2) -0.096 \n",
      "b1) 1.98 \n",
      "b2) 1.66 \n",
      "c) 0.840\n",
      "d) 0.447\n"
     ]
    }
   ],
   "source": []
  },
  {
   "cell_type": "markdown",
   "metadata": {},
   "source": [
    "## Question 3\n",
    "\n",
    "The accompanying data on x = current density (mA/cm$^2$) and y = rate of deposition (µm/min) appeared in the article \"Plating of 60/40 Tin/Lead Solder for Head Termination Metallurgy\" (Plating and Surface Finishing, Jan. 1997: 38-40). Do you agree with the claim by the article's author that \"a linear relationship was obtained from the tin-lead rate of deposition as a function of current density\"? (Give answer accurate to 3 decimal places.)\n",
    "\n",
    "x\t20\t40\t60\t80\n",
    "y  \t  0.24  \t  1.20  \t  1.71  \t  2.22  \n",
    "\n",
    "$r^2$ = \n",
    "\n",
    "Explain your reasoning."
   ]
  },
  {
   "cell_type": "code",
   "execution_count": 78,
   "metadata": {},
   "outputs": [
    {
     "data": {
      "image/png": "[encoded data removed]",
      "text/plain": [
       "<Figure size 432x288 with 1 Axes>"
      ]
     },
     "metadata": {
      "needs_background": "light"
     },
     "output_type": "display_data"
    }
   ],
   "source": []
  },
  {
   "cell_type": "code",
   "execution_count": 79,
   "metadata": {},
   "outputs": [
    {
     "name": "stdout",
     "output_type": "stream",
     "text": [
      "                            OLS Regression Results                            \n",
      "==============================================================================\n",
      "Dep. Variable:                      y   R-squared:                       0.972\n",
      "Model:                            OLS   Adj. R-squared:                  0.957\n",
      "Method:                 Least Squares   F-statistic:                     68.48\n",
      "Date:                Sat, 29 Aug 2020   Prob (F-statistic):             0.0143\n",
      "Time:                        08:59:04   Log-Likelihood:                 2.6988\n",
      "No. Observations:                   4   AIC:                            -1.398\n",
      "Df Residuals:                       2   BIC:                            -2.625\n",
      "Df Model:                           1                                         \n",
      "Covariance Type:            nonrobust                                         \n",
      "==============================================================================\n",
      "                 coef    std err          t      P>|t|      [0.025      0.975]\n",
      "------------------------------------------------------------------------------\n",
      "Intercept     -0.2700      0.213     -1.265      0.333      -1.188       0.648\n",
      "x              0.0322      0.004      8.275      0.014       0.015       0.049\n",
      "==============================================================================\n",
      "Omnibus:                          nan   Durbin-Watson:                   2.233\n",
      "Prob(Omnibus):                    nan   Jarque-Bera (JB):                0.428\n",
      "Skew:                           0.365   Prob(JB):                        0.807\n",
      "Kurtosis:                       1.573   Cond. No.                         134.\n",
      "==============================================================================\n",
      "\n",
      "Warnings:\n",
      "[1] Standard Errors assume that the covariance matrix of the errors is correctly specified.\n",
      "r^2 = 0.972\n"
     ]
    },
    {
     "name": "stderr",
     "output_type": "stream",
     "text": [
      "/usr/local/lib64/python3.6/site-packages/statsmodels/stats/stattools.py:71: ValueWarning: omni_normtest is not valid with less than 8 observations; 4 samples were given.\n",
      "  \"samples were given.\" % int(n), ValueWarning)\n"
     ]
    }
   ],
   "source": []
  },
  {
   "cell_type": "markdown",
   "metadata": {},
   "source": [
    "## Question 4\n",
    "\n",
    "A scatter plot along with the least squares line of x = rainfall volume (m3) and y = runoff volume (m3) were given for a particular location. The accompanying values were read from the plot.\n",
    "\n",
    "(a) Does a scatter plot of the data support the use of the simple linear regression model? \n",
    "\n",
    "(b) Calculate point estimates of the slope and intercept of the population regression line. (Give answers accurate to 3 decimal places.)\n",
    "\n",
    "(c) Calculate a point estimate of the true average runoff volume when rainfall volume is 50. (Give answer accurate to 2 decimal places.) \n",
    "\n",
    "(d) Calculate a point estimate of the standard deviation σ. (Give answer accurate to 2 decimal places.) \n",
    "\n",
    "(e) What proportion of the observed variation in runoff volume can be attributed to the simple linear regression relationship between runoff and rainfall? (Give answer accurate to 4 decimal places.)"
   ]
  },
  {
   "cell_type": "code",
   "execution_count": 18,
   "metadata": {},
   "outputs": [
    {
     "data": {
      "image/png": "[encoded data removed]",
      "text/plain": [
       "<Figure size 432x288 with 1 Axes>"
      ]
     },
     "metadata": {
      "needs_background": "light"
     },
     "output_type": "display_data"
    }
   ],
   "source": []
  },
  {
   "cell_type": "code",
   "execution_count": 19,
   "metadata": {},
   "outputs": [
    {
     "name": "stdout",
     "output_type": "stream",
     "text": [
      "                            OLS Regression Results                            \n",
      "==============================================================================\n",
      "Dep. Variable:                      y   R-squared:                       0.977\n",
      "Model:                            OLS   Adj. R-squared:                  0.975\n",
      "Method:                 Least Squares   F-statistic:                     553.0\n",
      "Date:                Fri, 04 Dec 2020   Prob (F-statistic):           4.88e-12\n",
      "Time:                        09:35:01   Log-Likelihood:                -44.807\n",
      "No. Observations:                  15   AIC:                             93.61\n",
      "Df Residuals:                      13   BIC:                             95.03\n",
      "Df Model:                           1                                         \n",
      "Covariance Type:            nonrobust                                         \n",
      "==============================================================================\n",
      "                 coef    std err          t      P>|t|      [0.025      0.975]\n",
      "------------------------------------------------------------------------------\n",
      "Intercept     -2.8061      2.364     -1.187      0.256      -7.913       2.300\n",
      "x              0.8571      0.036     23.516      0.000       0.778       0.936\n",
      "==============================================================================\n",
      "Omnibus:                        0.868   Durbin-Watson:                   1.864\n",
      "Prob(Omnibus):                  0.648   Jarque-Bera (JB):                0.692\n",
      "Skew:                          -0.141   Prob(JB):                        0.708\n",
      "Kurtosis:                       1.987   Cond. No.                         115.\n",
      "==============================================================================\n",
      "\n",
      "Warnings:\n",
      "[1] Standard Errors assume that the covariance matrix of the errors is correctly specified.\n",
      "\n",
      "c) y_prediction = 40.05\n",
      "\n",
      "d) sigma = 5.17\n",
      "\n",
      "e) r^2 = 0.9770\n"
     ]
    },
    {
     "name": "stderr",
     "output_type": "stream",
     "text": [
      "/usr/local/lib64/python3.6/site-packages/scipy/stats/stats.py:1604: UserWarning: kurtosistest only valid for n>=20 ... continuing anyway, n=15\n",
      "  \"anyway, n=%i\" % int(n))\n"
     ]
    }
   ],
   "source": []
  },
  {
   "cell_type": "markdown",
   "metadata": {},
   "source": [
    "## Question 5\n",
    "\n",
    "The following summary statistics were obtained from a study that used regression analysis to investigate the relationship between pavement deflection and surface temperature of the pavement at various locations on a state highway. Here x = temperature (°F) and y = deflection adjustment factor (y ≥ 0).\n",
    "n = 17       Σxi = 1448.6       Σyi = 10.57\n",
    "Σxi 2 = 147414.45       Σxiyi = 987.536\n",
    "Σyi 2 = 7.8653\n",
    "\n",
    "(a) Compute eta hat1, eta hat0, and the equation of the estimated regression line. Graph the estimated line. (Do this on paper. Your instructor may ask you to turn in this work. Give answers accurate to 4 decimal places.)\n",
    "y^^\\^ =    seenKey 0.3131\t+    seenKey 0.0036  x\n",
    "\n",
    "(b) What is the estimate of expected change in the deflection adjustment factor when temperature is increased by 1°F? (Give answer accurate to 4 decimal places.) \n",
    "   seenKey 0.0036  \n",
    "\n",
    "(c) Suppose temperature were measured in °C rather than in °F. What would be the estimated regression line? Answer part (b) for an increase of 1°C. [Hint: °F = (9/5)°C + 32; now substitute for the \"old x\" in terms of the \"new x.\"] (Give answers accurate to 4 decimal places.)\n",
    "y^^\\^ =    seenKey 0.4290\t+    seenKey 0.0065  x\n",
    "\n",
    "(d) If a 200°F surface temperature were within the realm of possibility, would you use the estimated line of part (a) to predict deflection factor for this temperature? Why or why not? \n"
   ]
  },
  {
   "cell_type": "code",
   "execution_count": 82,
   "metadata": {},
   "outputs": [
    {
     "name": "stdout",
     "output_type": "stream",
     "text": [
      "\n",
      "a) y = 0.3131 + 0.0036 x\n",
      "\n",
      "b) delta = 0.0036\n",
      "\n",
      "c) y = 0.4290 + 0.0065 x\n",
      "\n",
      "d) y_prediction = 1.0375\n"
     ]
    }
   ],
   "source": [
    "sumx = 1448.6\n",
    "sumy = 10.57\n",
    "sumx2 = 147414.45\n",
    "sumxy = 987.536\n",
    "sumy2 = 7.8653\n",
    "n = 17\n",
    "\n",
    "yint, slope = linear_regression(sumx,sumy,sumxy,sumx2,n)\n",
    "\n",
    "print()\n",
    "print (\"a) y = %0.4f + %0.4f x\" % (yint,slope))\n",
    "\n",
    "x = 1\n",
    "delta = slope*x\n",
    "print ()\n",
    "print (\"b) delta = %0.4f\" % delta)\n",
    "\n",
    "# y = yint + slope*x\n",
    "# y = yint + slope(9/5*x + 32)\n",
    "# y = yint + slope*32 + slope*9/5 * x\n",
    "\n",
    "yintF = yint + slope*32\n",
    "slopeF = slope*9/5\n",
    "print()\n",
    "print (\"c) y = %0.4f + %0.4f x\" % (yintF,slopeF))\n",
    "\n",
    "y_prediction = yint + slope*200.0\n",
    "print()\n",
    "print (\"d) y_prediction = %0.4f\" % y_prediction)\n"
   ]
  },
  {
   "cell_type": "markdown",
   "metadata": {},
   "source": [
    "## Question 6\n",
    "\n",
    "The following data is representative of that reported in an article on nitrogen emissions, with x = burner area liberation rate (MBtu/hr-ft2) and y = NOx emission rate (ppm).\n",
    "x\t  100\t125\t125\t150\t150\t200\t200\t250\t250\t300\t300\t350\t400\t400\n",
    "y    \t  140  \t130  \t170  \t220  \t190  \t300  \t270  \t390  \t420  \t440  \t400  \t590  \t600  \t650  \n",
    "(a) Assuming that the simple linear regression model is valid, obtain the least squares estimate of the true regression line. (Give answers accurate to 2 decimal places.)\n",
    "y^^\\^ =    seenKey -49.35  +    seenKey 1.70  x\n",
    "\n",
    "(b) What is the estimate of expected NOx emission rate when burner area liberation rate equals 250? (Give answer accurate to 1 decimal place.)\n",
    "\n",
    "(c) Estimate the amount by which you expect NOx emission rate to change when burner area liberation rate is decreased by 60. (Give answer accurate to 1 decimal place.) \n",
    "\n",
    "(d) Would you use the estimated regression line to predict emission rate for a liberation rate of 500? Why or why not?"
   ]
  },
  {
   "cell_type": "code",
   "execution_count": 72,
   "metadata": {},
   "outputs": [
    {
     "data": {
      "image/png": "[encoded data removed]",
      "text/plain": [
       "<Figure size 432x288 with 1 Axes>"
      ]
     },
     "metadata": {
      "needs_background": "light"
     },
     "output_type": "display_data"
    }
   ],
   "source": [
    "x = np.array([100,125,125,150,150,200,200,250,250,300,300,350,400,400])\n",
    "y = np.array([140,130,170,220,190,300,270,390,420,440,400,590,600,650])\n",
    "\n",
    "df = pd.DataFrame({'x':x, 'y':y})\n",
    "\n",
    "df.plot('x','y',style='o')\n",
    "plt.ylabel('Y')\n",
    "plt.show()"
   ]
  },
  {
   "cell_type": "code",
   "execution_count": 74,
   "metadata": {},
   "outputs": [
    {
     "name": "stdout",
     "output_type": "stream",
     "text": [
      "                            OLS Regression Results                            \n",
      "==============================================================================\n",
      "Dep. Variable:                      y   R-squared:                       0.970\n",
      "Model:                            OLS   Adj. R-squared:                  0.968\n",
      "Method:                 Least Squares   F-statistic:                     390.3\n",
      "Date:                Sat, 29 Aug 2020   Prob (F-statistic):           1.61e-10\n",
      "Time:                        00:00:46   Log-Likelihood:                -67.162\n",
      "No. Observations:                  14   AIC:                             138.3\n",
      "Df Residuals:                      12   BIC:                             139.6\n",
      "Df Model:                           1                                         \n",
      "Covariance Type:            nonrobust                                         \n",
      "==============================================================================\n",
      "                 coef    std err          t      P>|t|      [0.025      0.975]\n",
      "------------------------------------------------------------------------------\n",
      "Intercept    -49.3495     21.949     -2.248      0.044     -97.172      -1.527\n",
      "x              1.6972      0.086     19.755      0.000       1.510       1.884\n",
      "==============================================================================\n",
      "Omnibus:                        0.283   Durbin-Watson:                   2.820\n",
      "Prob(Omnibus):                  0.868   Jarque-Bera (JB):                0.420\n",
      "Skew:                          -0.244   Prob(JB):                        0.811\n",
      "Kurtosis:                       2.306   Cond. No.                         662.\n",
      "==============================================================================\n",
      "\n",
      "Warnings:\n",
      "[1] Standard Errors assume that the covariance matrix of the errors is correctly specified.\n",
      "\n",
      "b) y_prediction = 375.0\n",
      "\n",
      "c) delta = -101.8\n"
     ]
    }
   ],
   "source": [
    "result = sm.ols('y ~ x',df,).fit()\n",
    "print (result.summary())\n",
    "\n",
    "r2 = result.rsquared\n",
    "r2_reduced = result.rsquared_adj\n",
    "yint = result.params[0]\n",
    "slope = result.params[1]\n",
    "\n",
    "x_prediction = 250.0\n",
    "y_prediction = slope*x_prediction + yint\n",
    "print()\n",
    "print (\"b) y_prediction = %0.1f\" % y_prediction)\n",
    "\n",
    "print()\n",
    "print (\"c) delta = %0.1f\" % (slope*-60))"
   ]
  },
  {
   "cell_type": "code",
   "execution_count": null,
   "metadata": {},
   "outputs": [],
   "source": []
  }
 ],
 "metadata": {
  "kernelspec": {
   "display_name": "Python 3",
   "language": "python",
   "name": "python3"
  },
  "language_info": {
   "codemirror_mode": {
    "name": "ipython",
    "version": 3
   },
   "file_extension": ".py",
   "mimetype": "text/x-python",
   "name": "python",
   "nbconvert_exporter": "python",
   "pygments_lexer": "ipython3",
   "version": "3.6.8"
  }
 },
 "nbformat": 4,
 "nbformat_minor": 2
}
